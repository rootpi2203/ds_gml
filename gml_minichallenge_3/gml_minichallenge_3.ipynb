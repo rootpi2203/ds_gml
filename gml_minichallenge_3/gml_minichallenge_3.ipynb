{
 "cells": [
  {
   "cell_type": "markdown",
   "metadata": {
    "deletable": false,
    "editable": false,
    "nbgrader": {
     "cell_type": "markdown",
     "checksum": "0baf5c23b9b6d00d9a422cbc9bd72270",
     "grade": false,
     "grade_id": "cell-e239d10117a30187",
     "locked": true,
     "schema_version": 3,
     "solution": false,
     "task": false
    }
   },
   "source": [
    "# GML - Mini-Challenge 3 - FS 2022"
   ]
  },
  {
   "cell_type": "markdown",
   "metadata": {
    "deletable": false,
    "editable": false,
    "nbgrader": {
     "cell_type": "markdown",
     "checksum": "0f9ef44a2355ee313dc09c5d092d173e",
     "grade": false,
     "grade_id": "cell-ba5dbdbc08eaf929",
     "locked": true,
     "schema_version": 3,
     "solution": false,
     "task": false
    }
   },
   "source": [
    "**Ausgabe:** Montag, 23. Mai 2022  \n",
    "**Abgabe:** Sonntag, 12. Juni 2022, bis 24 Uhr "
   ]
  },
  {
   "cell_type": "markdown",
   "metadata": {
    "deletable": false,
    "editable": false,
    "nbgrader": {
     "cell_type": "markdown",
     "checksum": "4e6259191e464ec5e4162d520812c376",
     "grade": false,
     "grade_id": "cell-2c899937809700f1",
     "locked": true,
     "schema_version": 3,
     "solution": false,
     "task": false
    }
   },
   "source": [
    "In diesem Mini-Challenge untersuchen wir die Struktur eines Datensatzes von Sonnenspektren.  \n",
    "\n",
    "Cédric Huwyler hat uns freundlicherweise die Daten dafür bereitgestellt. Es handelt sich dabei um Daten gesammelt von der Nasa Iris Mission: https://iris.lmsal.com/  \n",
    "\n",
    "Du findest etwas mehr Kontext auf folgender DS-Spaces Seite: https://ds-spaces.technik.fhnw.ch/iris-centroid-browser/  "
   ]
  },
  {
   "cell_type": "markdown",
   "metadata": {
    "deletable": false,
    "editable": false,
    "nbgrader": {
     "cell_type": "markdown",
     "checksum": "af957dfd70f4f25ee530597f58c76960",
     "grade": false,
     "grade_id": "cell-7ebd6dd49b9ff5e0",
     "locked": true,
     "schema_version": 3,
     "solution": false,
     "task": false
    }
   },
   "source": [
    "#### Vorgaben zu Umsetzung und Abgabe\n",
    "\n",
    "- Code muss in python geschrieben werden.\n",
    "- Wir entwickeln die meisten Algorithmen selber. Wenn nicht explizit anders verlangt, dürfen bloss die folgenden Bibliotheken verwendet werden: numpy, matplotlib, seaborn, pandas\n",
    "- Der Code muss lauffähig sein bei Ausführung im Docker-Container des Trainingcenters. \n",
    "- Es darf kein Code ausgelagert werden.\n",
    "- Sämtliche Plots sind komplett beschriftet (Achsen, Labels, Titel, Colorbar, ..), sodass der Plot einfach verstanden werden kann.\n",
    "- Zu jedem Plot gibt es eine kurze Diskussion, welche den Plot erklärt und die wichtigsten Einsichten die damit sichtbar werden festhält.  \n",
    "- Als **Abgabe** zählt der letzte Commit in deinem Fork des Repos vor Abgabetermin.  \n",
    "\n",
    "\n",
    "- **Bitte löschen, duplizieren oder verschieben sie die vorhandenen Zellen nicht**. Dies führt zu Problemen bei der Korrektur. Sie dürfen aber beliebig viele weitere Zellen hinzufügen.\n",
    "- Bitte importiere Daten mit **relativen Pfaden** innerhalb des Repos."
   ]
  },
  {
   "cell_type": "markdown",
   "metadata": {
    "deletable": false,
    "editable": false,
    "nbgrader": {
     "cell_type": "markdown",
     "checksum": "73127099e42b03434a7d2d0eeffed439",
     "grade": false,
     "grade_id": "cell-4d8d13d5b1d9a125",
     "locked": true,
     "schema_version": 3,
     "solution": false,
     "task": false
    }
   },
   "source": [
    "Für die Erarbeitung der Inhalte darf zusammengearbeitet werden. Die Zusammenarbeit ist dabei aber auf algorithmische Fragen und Verständnisaspekte beschränkt.  \n",
    "\n",
    "**Es darf kein Code oder Text von anderen oder vom Internet kopiert werden.**"
   ]
  },
  {
   "cell_type": "markdown",
   "metadata": {
    "deletable": false,
    "editable": false,
    "nbgrader": {
     "cell_type": "markdown",
     "checksum": "8be99e3d9b7d5fdf5cbadd97fd8454a2",
     "grade": false,
     "grade_id": "cell-b9e5cab4054c5714",
     "locked": true,
     "schema_version": 3,
     "solution": false,
     "task": false
    }
   },
   "source": [
    "---"
   ]
  },
  {
   "cell_type": "markdown",
   "metadata": {
    "deletable": false,
    "editable": false,
    "nbgrader": {
     "cell_type": "markdown",
     "checksum": "60a95f46f820aa342f83bff41074abe0",
     "grade": false,
     "grade_id": "cell-0b9b8c0b1eeecede",
     "locked": true,
     "schema_version": 3,
     "solution": false,
     "task": false
    }
   },
   "source": [
    "### Aufgabe 1 (4 Punkte)\n",
    "\n",
    "Lade den Datensatz der Sonnenspektren von folgendem Link herunter ( https://drive.switch.ch/index.php/s/SfcNAisJNpTxCrh ) und füge ihn dem `data`-Verzeichnis in diesem Repo zu (der Datensatz soll nicht committed und gepushed werden). Lade dann (`data/iris_sun_spectra.npy`) mit der Funktion `np.load`. Verwende einen relativen Pfad.\n",
    "\n",
    "Der Wellenlängenbereich der Spektren ist 279.414 nm - 280.572 nm. Die Intensität der Spektren ist auf 1 normiert.  \n",
    "\n",
    "Visualisiere einige (~ 100) zufällige Beispiele nebeneinander in einer Figure in Subplots und beschreibe was du vorfindest."
   ]
  },
  {
   "cell_type": "code",
   "execution_count": null,
   "metadata": {
    "deletable": false,
    "nbgrader": {
     "cell_type": "code",
     "checksum": "5307d433908daae7e784bccf1f1186a2",
     "grade": true,
     "grade_id": "cell-579591d04512b020",
     "locked": false,
     "points": 2,
     "schema_version": 3,
     "solution": true,
     "task": false
    }
   },
   "outputs": [],
   "source": [
    "# YOUR CODE HERE\n",
    "raise NotImplementedError()"
   ]
  },
  {
   "cell_type": "markdown",
   "metadata": {
    "deletable": false,
    "nbgrader": {
     "cell_type": "markdown",
     "checksum": "b79befc40d99e149982696b3da0b0760",
     "grade": true,
     "grade_id": "cell-bee5cf373cebf659",
     "locked": false,
     "points": 2,
     "schema_version": 3,
     "solution": true,
     "task": false
    }
   },
   "source": [
    "YOUR ANSWER HERE"
   ]
  },
  {
   "cell_type": "markdown",
   "metadata": {
    "deletable": false,
    "editable": false,
    "nbgrader": {
     "cell_type": "markdown",
     "checksum": "2468242f46e3dc84fc2e5d81e8efd926",
     "grade": false,
     "grade_id": "cell-f010d09afb0df840",
     "locked": true,
     "schema_version": 3,
     "solution": false,
     "task": false
    }
   },
   "source": [
    "### Aufgabe 2 (8 Punkte)\n",
    "\n",
    "Schreibe eine Klasse, analog einer Transformer-Klasse in scikit-learn, welche die Principal Components mittels Singular Value Decomposition berechnet.  \n",
    "Für einen beliebigen Datensatz sollen dabei alle möglichen Principal Components berechnet werden.  \n",
    "\n",
    "Nach Ausführen der `fit`-Methode, soll ein Objekt die Attribute `components_` und `variance_` aufweisen, welche die Principal Components als Zeilenvektoren, bzw. die Varianz des Datensatzes entlang der Komponenten ausweist.  \n",
    "\n",
    "Konstruiere und visualisiere ein einfaches 2-dimensionales Beispiel mit welchem du zeigst, dass deine Klasse wie erwartet funktioniert. Zeige insbesondere, dass die erste Principal Component tatsächlich in Richtung der grössten Varianz zeigt und dass die Berechnung der Varianzen entlang der Principal Components berechnet stimmen. Erkläre diese Verifikation der Funktionstüchtigkeit."
   ]
  },
  {
   "cell_type": "code",
   "execution_count": null,
   "metadata": {
    "deletable": false,
    "nbgrader": {
     "cell_type": "code",
     "checksum": "b589f6db270d80953347e0b3bb02b4f8",
     "grade": true,
     "grade_id": "cell-11692ed32245c0cb",
     "locked": false,
     "points": 6,
     "schema_version": 3,
     "solution": true,
     "task": false
    }
   },
   "outputs": [],
   "source": [
    "# YOUR CODE HERE\n",
    "raise NotImplementedError()"
   ]
  },
  {
   "cell_type": "markdown",
   "metadata": {
    "deletable": false,
    "nbgrader": {
     "cell_type": "markdown",
     "checksum": "4862092469ab8532cd0b196398bc5c9a",
     "grade": true,
     "grade_id": "cell-398d9b35bde0986a",
     "locked": false,
     "points": 2,
     "schema_version": 3,
     "solution": true,
     "task": false
    }
   },
   "source": [
    "YOUR ANSWER HERE"
   ]
  },
  {
   "cell_type": "markdown",
   "metadata": {
    "deletable": false,
    "editable": false,
    "nbgrader": {
     "cell_type": "markdown",
     "checksum": "5f20e1bdf541acd67b5cbd84337da32a",
     "grade": false,
     "grade_id": "cell-556cc0ec38ee5c58",
     "locked": true,
     "schema_version": 3,
     "solution": false,
     "task": false
    }
   },
   "source": [
    "### Aufgabe 3 (6 Punkte)\n",
    "\n",
    "Zeige (analytisch), dass die Principal Components die Eigenvektoren der Kovarianzmatrix eines Datensatzes sind. Was sind die Eigenwerte?  \n",
    "\n",
    "Lies das Kapitel von Jolliffe (Jolliffe, Principal Component Analysis, Springer, 2002) im Verzeichnis Literatur in diesem Repo für Inspiration.  \n",
    "\n",
    "Erkläre was dies bedeutet."
   ]
  },
  {
   "cell_type": "markdown",
   "metadata": {
    "deletable": false,
    "nbgrader": {
     "cell_type": "markdown",
     "checksum": "d27174de532b76c9cc31781d6c7149d4",
     "grade": true,
     "grade_id": "cell-c2d8255aecbfd56e",
     "locked": false,
     "points": 6,
     "schema_version": 3,
     "solution": true,
     "task": false
    }
   },
   "source": [
    "YOUR ANSWER HERE"
   ]
  },
  {
   "cell_type": "markdown",
   "metadata": {
    "deletable": false,
    "editable": false,
    "nbgrader": {
     "cell_type": "markdown",
     "checksum": "b352fac9dbf5a18f9d5a273c2baba94b",
     "grade": false,
     "grade_id": "cell-c540d5803e245f0a",
     "locked": true,
     "schema_version": 3,
     "solution": false,
     "task": false
    }
   },
   "source": [
    "### Aufgabe 4 (11 Punkte)\n",
    "\n",
    "Berechne die Principal Components des Datensatzes der Sonnenspektren.  \n",
    "\n",
    "Zeichne die kumulative Summe der Varianzen entlang der aufsteigenden Principal Components.  \n",
    "\n",
    "Wieviele Components brauchen wir, um 95 % der Varianz des Datensatzes zu erhalten?  \n",
    "Rekonstruiere die Spektren aus diesen $K$ Components und zeichne Original und Rekonstruktion für 100 Beispiele in den gleichen Plot.  \n",
    "\n",
    "Zeichne die $K$ Principal Components.  \n",
    "\n",
    "Projiziere die Spektren auf die ersten beiden Principal Components und visualisiere die Spektren im neuen Koordinatensystem.  \n",
    "\n",
    "Diskutiere sämtliche Plots."
   ]
  },
  {
   "cell_type": "code",
   "execution_count": null,
   "metadata": {
    "deletable": false,
    "nbgrader": {
     "cell_type": "code",
     "checksum": "74006fb4c23682ec73239de11ba1fff3",
     "grade": true,
     "grade_id": "cell-da80f45b36557277",
     "locked": false,
     "points": 7,
     "schema_version": 3,
     "solution": true,
     "task": false
    }
   },
   "outputs": [],
   "source": [
    "# YOUR CODE HERE\n",
    "raise NotImplementedError()"
   ]
  },
  {
   "cell_type": "markdown",
   "metadata": {
    "deletable": false,
    "nbgrader": {
     "cell_type": "markdown",
     "checksum": "66a7e8ebe05a59b5878da1182102675b",
     "grade": true,
     "grade_id": "cell-07ba8a54e32f6f8b",
     "locked": false,
     "points": 4,
     "schema_version": 3,
     "solution": true,
     "task": false
    }
   },
   "source": [
    "YOUR ANSWER HERE"
   ]
  },
  {
   "cell_type": "markdown",
   "metadata": {
    "deletable": false,
    "editable": false,
    "nbgrader": {
     "cell_type": "markdown",
     "checksum": "df2dfa1f2f1abc905a60006ba8eebc7f",
     "grade": false,
     "grade_id": "cell-77eb4bc01da917da",
     "locked": true,
     "schema_version": 3,
     "solution": false,
     "task": false
    }
   },
   "source": [
    "### Aufgabe 5 (10 Punkte)\n",
    "\n",
    "Nun wenden wir uns Non-negative Matrix Factorization (NMF) zu.  \n",
    "\n",
    "Verwende NMF von scikit-learn, um eine Zerlegung der Datenmatrix zu berechnen.  \n",
    "\n",
    "Entwickle also ein sinnvolles NMF-Modell für den Sonnenspektren Datensatz. Wie kannst du hier die Anzahl Komponenten wählen?\n",
    "\n",
    "Ein Datenpunkt soll in deinem Ansatz nur durch einen kleinen Teil der Komponenten repräsentiert werden können.\n",
    "Inwiefern hat dies einen Einfluss auf die Wahl der Regularisierung?  \n",
    "\n",
    "Welche übergeordneten ML-Entwicklungs- und Model-Selection-Prinzipien kannst du hier einbringen, begründe.\n",
    "\n",
    "Rekonstruiere die Spektren aus den gefundenen Komponenten und zeichne Original und Rekonstruktion für 100 Beispiele in den gleichen Plot.  \n",
    "\n",
    "Zeichne die gefundenen Komponenten.  \n",
    "\n",
    "Wie kannst du visualisieren und aufzeigen, dass die Sonnenspektren tatsächlich nur aus wenigen Komponenten rekonstruiert werden?  \n",
    "\n",
    "\n",
    "Diskutiere sämtliche Ergebnisse und vergleiche die Resultate mit Aufgabe 3."
   ]
  },
  {
   "cell_type": "code",
   "execution_count": null,
   "metadata": {
    "deletable": false,
    "nbgrader": {
     "cell_type": "code",
     "checksum": "8166d23e4945eb25ba54cb6d0de1d94b",
     "grade": true,
     "grade_id": "cell-b21b0440e5ff2b33",
     "locked": false,
     "points": 6,
     "schema_version": 3,
     "solution": true,
     "task": false
    }
   },
   "outputs": [],
   "source": [
    "# YOUR CODE HERE\n",
    "raise NotImplementedError()"
   ]
  },
  {
   "cell_type": "markdown",
   "metadata": {
    "deletable": false,
    "nbgrader": {
     "cell_type": "markdown",
     "checksum": "2ec2af6922e285a6d420ae3f6b536a50",
     "grade": true,
     "grade_id": "cell-e522b15574df6491",
     "locked": false,
     "points": 4,
     "schema_version": 3,
     "solution": true,
     "task": false
    }
   },
   "source": [
    "YOUR ANSWER HERE"
   ]
  },
  {
   "cell_type": "markdown",
   "metadata": {
    "deletable": false,
    "editable": false,
    "nbgrader": {
     "cell_type": "markdown",
     "checksum": "b305d09e4a8dd9052552d25736b786ee",
     "grade": false,
     "grade_id": "cell-413ba76978ba2219",
     "locked": true,
     "schema_version": 3,
     "solution": false,
     "task": false
    }
   },
   "source": [
    "### Aufgabe 6 - K-Means (8 Punkte)\n",
    "\n",
    "K-Means ist ein Clustering-Algorithmus. Mit K-Means können wir einen Datensatz in $K$ Gruppen (Cluster) unterteilen. Eine Funktion $C(i) \\in \\{ 1, \\dots, K \\}$ ordnet dabei jedem Datenpunkt $i$ einen Cluster $k$ zu. \n",
    "\n",
    "Die $K$ Gruppen werden dabei über $K$ Zentroiden, Clustermittelpunkte $\\mu_k$, charakterisiert. Datenpunkte (Pixelwerte in unserem Fall) werden dem Zentroiden zugeordnet, der ihnen am nächsten ist. Der K-Means-Algorithmus (siehe unten) findet dabei ein lokales Minimum für die Funktion\n",
    "\n",
    "$$\n",
    "J(C) = \\sum_{k=1}^{K} \\sum_{C(i)=k} ||x^{(i)} - \\mu_k||^2\n",
    "$$\n",
    "\n",
    "Er minimiert also den summierten quadrierten Abstand der Datenpunkte zu ihrem Zentroiden.  \n",
    "\n",
    "Da der Algorithmus nur ein lokales Minimum findet, initialisiert man den Algorithmus in der Regel mehrfach und behält am Schluss die Lösung mit dem kleinsten Wert für die Kostenfunktion.\n",
    "\n",
    "Ein Durchlauf / eine Initialisierung des Algorithmus funktioniert wie folgt:\n",
    "\n",
    "---\n",
    "\n",
    "#### K-Means Algorithmus\n",
    "\n",
    "*Initialisierung*: Wähle $K$ Zentroiden zufällig aus den gegebenen Datenpunkten.\n",
    "\n",
    "*Schritt 1*: Für gegebene Zentroiden $(\\mu_1, .., \\mu_k)$ ordne man sämtliche Datenpunkte jeweils jenem Cluster zu, dessen Zentroid dem jeweiligen Datenpunkt am nächsten ist. Also\n",
    "\n",
    "\n",
    "\\begin{eqnarray}\n",
    "C(i) = \\mathsf{argmin}_k ||x^{(i)} - \\mu_k||^2\n",
    "\\end{eqnarray}\n",
    "\n",
    "\n",
    "*Schritt 2*: Für eine gegebene Cluster-Zuordnung $C$ minimiere man die 'Gesamt-Cluster-Varianz' durch Aktualisieren der Zentroiden mit:\n",
    "\n",
    "\n",
    "\\begin{eqnarray}\n",
    "\\mu_k = \\frac{1}{N_k} \\sum_{C(i)=k}x^{(i)}\n",
    "\\end{eqnarray}\n",
    "\n",
    "$N_k$ sind die Anzahl Datenpunkte, die k zugeordnet sind.  \n",
    "\n",
    "*Schritt 3*: Man wiederhole die Schritte 1 und 2 bis sich die Zentroiden nicht mehr verändern oder der Wert der Funktion $J(C)$ sich kaum mehr verbessert.\n",
    "\n",
    "---\n",
    "\n",
    "Vervollständige die folgende Klasse, welche den K-Means-Algorithmus umsetzen soll.  \n",
    "\n",
    "Zeige anhand eines konstruierten Beispiels, dass dein Algorithmus zuverlässig funktioniert.  \n",
    "Verwende zur Konstruktion des Beispiels `sklearn.datasets.make_blobs`."
   ]
  },
  {
   "cell_type": "code",
   "execution_count": null,
   "metadata": {
    "deletable": false,
    "nbgrader": {
     "cell_type": "code",
     "checksum": "94fdd5b327684ca75ac2292d5af12abc",
     "grade": true,
     "grade_id": "cell-9aad1ae37d6cd168",
     "locked": false,
     "points": 8,
     "schema_version": 3,
     "solution": true,
     "task": false
    }
   },
   "outputs": [],
   "source": [
    "# If you want, you can use the following function to efficiently compute pairwise distances.\n",
    "# Read the docstring to learn how to use it.\n",
    "from scipy.spatial.distance import cdist\n",
    "\n",
    "class KMeans(object):\n",
    "    \n",
    "    def __init__(self, k=3, n_inits=10, random_seed=None):\n",
    "        '''KMeans clustering algorithm.\n",
    "        \n",
    "        Parameters\n",
    "        ----------\n",
    "        k: number of clusters\n",
    "        n_intis: number of initializations\n",
    "        '''\n",
    "        # Parameters\n",
    "        self.k = k\n",
    "        self.n_inits = n_inits\n",
    "        self.random_seed = None\n",
    "        \n",
    "        # The following attributes will be computed through execution of the\n",
    "        # KMeans algorithm in the fit method.\n",
    "        self.centroids_ = None\n",
    "        self.labels_ = None\n",
    "        self.cost_ = None\n",
    "        self.num_iterations_ = None\n",
    "    \n",
    "    \n",
    "    def fit(self, X):\n",
    "        '''Clusters the dataset X into k clusters.\n",
    "        '''                \n",
    "        # YOUR CODE HERE\n",
    "        raise NotImplementedError()\n",
    "        return self\n",
    "  \n",
    "    def cost_function(self, X):\n",
    "        '''Computes the KMeans cost function for a given dataset X.\n",
    "        '''\n",
    "        # YOUR CODE HERE\n",
    "        raise NotImplementedError()\n",
    "    \n",
    "    def predict(self, X):\n",
    "        '''Assigns each data point in X to the closest cluster.\n",
    "        \n",
    "        Can only be used after the clustering algorithm has been executed.\n",
    "        '''\n",
    "        # YOUR CODE HERE\n",
    "        raise NotImplementedError()\n",
    "  \n",
    "    # further methods go here\n",
    "    # YOUR CODE HERE\n",
    "    raise NotImplementedError()\n"
   ]
  },
  {
   "cell_type": "markdown",
   "metadata": {
    "deletable": false,
    "editable": false,
    "nbgrader": {
     "cell_type": "markdown",
     "checksum": "054cc536b487cfc5540e7e3e71242969",
     "grade": false,
     "grade_id": "cell-0f12476da45eccd6",
     "locked": true,
     "schema_version": 3,
     "solution": false,
     "task": false
    }
   },
   "source": [
    "### Aufgabe 7 - K-Means auf Sonnenspektren (7 Punkte)\n",
    "\n",
    "Beschreibe nun in Worten was es bedeutet, diese Spektren zu clustern.\n",
    "\n",
    "Nimm ein Clustering mit deiner Implementierung von KMeans der Sonnenspektren vor.  \n",
    "\n",
    "Bestimme einen sinnvollen Wert für $K$. Erläutere dabei dein Vorgehen und diskutiere auch alternative Möglichkeiten dafür.  \n",
    "\n",
    "Zeichne die Zentroiden.  \n",
    "\n",
    "Beschreibe und diskutiere deine Resultate.  \n",
    "Lege dabei Unterschiede von Zentroiden und Principal Components, sowie NMF Komponenten aus der ersten ule Mini-Challenge dar.  \n",
    "\n",
    "Könnte man K-Means auch als Matrizen-Zerlegung betrachten? Wie?"
   ]
  },
  {
   "cell_type": "code",
   "execution_count": null,
   "metadata": {
    "deletable": false,
    "nbgrader": {
     "cell_type": "code",
     "checksum": "03165de413460d09a6da8a58c152c3b3",
     "grade": true,
     "grade_id": "cell-568b934c1f839ef9",
     "locked": false,
     "points": 5,
     "schema_version": 3,
     "solution": true,
     "task": false
    }
   },
   "outputs": [],
   "source": [
    "# YOUR CODE HERE\n",
    "raise NotImplementedError()"
   ]
  },
  {
   "cell_type": "markdown",
   "metadata": {
    "deletable": false,
    "nbgrader": {
     "cell_type": "markdown",
     "checksum": "179286585012ece4ea33c1dc9dad8490",
     "grade": true,
     "grade_id": "cell-d08630f50558fb69",
     "locked": false,
     "points": 2,
     "schema_version": 3,
     "solution": true,
     "task": false
    }
   },
   "source": [
    "YOUR ANSWER HERE"
   ]
  },
  {
   "cell_type": "markdown",
   "metadata": {
    "deletable": false,
    "editable": false,
    "nbgrader": {
     "cell_type": "markdown",
     "checksum": "f0e4f8d8cfce6b4ea3dc6654118d056c",
     "grade": false,
     "grade_id": "cell-7d044617e9edebaa",
     "locked": true,
     "schema_version": 3,
     "solution": false,
     "task": false
    }
   },
   "source": [
    "### Aufgabe 8 (5 Punkte)\n",
    "\n",
    "Visualisiere die Cluster im Raum der ersten beiden Principal Components zusammen mit ihren Zentroiden.  \n",
    "\n",
    "Beschreibe und diskutiere deine Resultate. Entsprechen sie deinen Erwartungen?"
   ]
  },
  {
   "cell_type": "code",
   "execution_count": null,
   "metadata": {
    "deletable": false,
    "nbgrader": {
     "cell_type": "code",
     "checksum": "3010816aa39af5aa58483db508b0dbbd",
     "grade": true,
     "grade_id": "cell-fec6b81945e30a74",
     "locked": false,
     "points": 3,
     "schema_version": 3,
     "solution": true,
     "task": false
    }
   },
   "outputs": [],
   "source": [
    "# YOUR CODE HERE\n",
    "raise NotImplementedError()"
   ]
  },
  {
   "cell_type": "markdown",
   "metadata": {
    "deletable": false,
    "nbgrader": {
     "cell_type": "markdown",
     "checksum": "143277574e7996329622c408eb353bce",
     "grade": true,
     "grade_id": "cell-591e6b434107eb3a",
     "locked": false,
     "points": 2,
     "schema_version": 3,
     "solution": true,
     "task": false
    }
   },
   "source": [
    "YOUR ANSWER HERE"
   ]
  },
  {
   "cell_type": "markdown",
   "metadata": {
    "deletable": false,
    "editable": false,
    "nbgrader": {
     "cell_type": "markdown",
     "checksum": "4d49cf1e5bb76a54c1fbbf9b79f193e8",
     "grade": false,
     "grade_id": "cell-8af3f685648dbb3f",
     "locked": true,
     "schema_version": 3,
     "solution": false,
     "task": false
    }
   },
   "source": [
    "### Aufgabe 9 (4 Punkte)\n",
    "\n",
    "Beschreibe abschliessend die drei hier verwendeten *Unsupervised Learning*-Methoden miteinander. Was zeichnet sie aus, was unterscheidet sie?"
   ]
  },
  {
   "cell_type": "markdown",
   "metadata": {
    "deletable": false,
    "nbgrader": {
     "cell_type": "markdown",
     "checksum": "9ed4049aecdce1455faba1d65947b4d0",
     "grade": true,
     "grade_id": "cell-1c72edf07271ae0f",
     "locked": false,
     "points": 4,
     "schema_version": 3,
     "solution": true,
     "task": false
    }
   },
   "source": [
    "YOUR ANSWER HERE"
   ]
  }
 ],
 "metadata": {
  "kernelspec": {
   "display_name": "Python 3",
   "language": "python",
   "name": "python3"
  },
  "language_info": {
   "codemirror_mode": {
    "name": "ipython",
    "version": 3
   },
   "file_extension": ".py",
   "mimetype": "text/x-python",
   "name": "python",
   "nbconvert_exporter": "python",
   "pygments_lexer": "ipython3",
   "version": "3.8.8"
  }
 },
 "nbformat": 4,
 "nbformat_minor": 4
}
